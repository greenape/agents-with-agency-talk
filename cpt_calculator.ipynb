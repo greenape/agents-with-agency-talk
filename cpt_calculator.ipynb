{
 "metadata": {
  "name": "",
  "signature": "sha256:4c120d7b1ec7c03cd14778354ebdb36614b00bef545f58e6c2f31c4a1e21a998"
 },
 "nbformat": 3,
 "nbformat_minor": 0,
 "worksheets": [
  {
   "cells": [
    {
     "cell_type": "heading",
     "level": 1,
     "metadata": {},
     "source": [
      "Cumulative Prospect Levers"
     ]
    },
    {
     "cell_type": "markdown",
     "metadata": {},
     "source": [
      "First, we set up the CPT equations for probability weighting, and value transforms. While several weighting functions have been suggested, here I'm going to stick to Tversky & Kahneman's original version."
     ]
    },
    {
     "cell_type": "code",
     "collapsed": false,
     "input": [
      "    def weighting(probability, power):\n",
      "        return pow(probability, power) / pow(pow(probability, power) + pow(1. - probability, power), 1. / power)\n",
      "\n",
      "\n",
      "    def value(outcome, lmbda, alpha, beta):\n",
      "        \"\"\"\n",
      "        Return the relative value of an outcome.\n",
      "        \"\"\"\n",
      "        if outcome > 0:\n",
      "            return gain_value(outcome, alpha)\n",
      "        elif outcome < 0:\n",
      "            return lmbda * loss_value(outcome, beta)\n",
      "        return 0\n",
      "\n",
      "    def gain_value(payoff, alpha):\n",
      "        if alpha > 0:\n",
      "            payoff = pow(payoff, alpha)\n",
      "        elif alpha < 0:\n",
      "            payoff = math.log(payoff)\n",
      "        else:\n",
      "            payoff = 1 - pow(1 + payoff, alpha)\n",
      "        return payoff\n",
      "\n",
      "    def loss_value(payoff, beta):\n",
      "        if beta > 0:\n",
      "            payoff = -pow(-payoff, beta)\n",
      "        elif beta < 0:\n",
      "            payoff = pow(1 - payoff, beta) - 1\n",
      "        else:\n",
      "            payoff = -math.log(-payoff)\n",
      "        return payoff"
     ],
     "language": "python",
     "metadata": {},
     "outputs": [],
     "prompt_number": 1
    },
    {
     "cell_type": "markdown",
     "metadata": {},
     "source": [
      "Now, recall our three levers - red, blue, and purple.\n",
      "\n",
      "Under prospect theory, each possible outcome of a lever pull, together with the probability of that outcome is a prospect. So, the red and blue levers have two prospects a piece, and the purple just one."
     ]
    },
    {
     "cell_type": "code",
     "collapsed": false,
     "input": [
      "red_lever = [(0.8, 7), (0.2, 0)]\n",
      "blue_lever = [(0.11, 100), (0.89, -5)]\n",
      "purple_lever = [(1, 6)]"
     ],
     "language": "python",
     "metadata": {},
     "outputs": [],
     "prompt_number": 2
    },
    {
     "cell_type": "markdown",
     "metadata": {},
     "source": [
      "CPT also has a number of parameters (there is substantial, and ongoing debate about the right values), the values for which I've also taken directly from T&K.\n",
      "\n",
      "* \u03b1 (alpha), is the power for gains when transforming values.\n",
      "* \u03b2 (beta), is the same for losses.\n",
      "* \u03bb (lmbda), is the loss aversion multiplier.\n",
      "* \u03b3 (gamma), weights probabilities for gains.\n",
      "* \u03b4 (delta), does the same for loses."
     ]
    },
    {
     "cell_type": "code",
     "collapsed": false,
     "input": [
      "alpha = 0.88\n",
      "beta = 0.88\n",
      "lmbda = 2.25\n",
      "gamma = 0.61\n",
      "delta = 0.69"
     ],
     "language": "python",
     "metadata": {},
     "outputs": [],
     "prompt_number": 3
    },
    {
     "cell_type": "markdown",
     "metadata": {},
     "source": [
      "Now we can compute the weighted probabilities, and transformed values for the prospects. We'll start with the first prospect for the red lever - an 80% chance of winning \u20ac7. This is a gain, so we use \u03b1."
     ]
    },
    {
     "cell_type": "code",
     "collapsed": false,
     "input": [
      "probability = red_lever[0][0]\n",
      "weighted_prob = weighting(probability, gamma)\n",
      "weighted_prob"
     ],
     "language": "python",
     "metadata": {},
     "outputs": [
      {
       "metadata": {},
       "output_type": "pyout",
       "prompt_number": 11,
       "text": [
        "0.6074392743239481"
       ]
      }
     ],
     "prompt_number": 11
    },
    {
     "cell_type": "markdown",
     "metadata": {},
     "source": [
      "We can also calculate the transformed value."
     ]
    },
    {
     "cell_type": "code",
     "collapsed": false,
     "input": [
      "outcome = red_lever[0][1]\n",
      "transformed_outcome = value(outcome, lmbda, alpha, beta)\n",
      "transformed_outcome"
     ],
     "language": "python",
     "metadata": {},
     "outputs": [
      {
       "metadata": {},
       "output_type": "pyout",
       "prompt_number": 12,
       "text": [
        "5.54225208209486"
       ]
      }
     ],
     "prompt_number": 12
    },
    {
     "cell_type": "markdown",
     "metadata": {},
     "source": [
      "And together they give us the value of this prospect."
     ]
    },
    {
     "cell_type": "code",
     "collapsed": false,
     "input": [
      "red_lever_cpt_value_1 = transformed_outcome*weighted_prob\n",
      "red_lever_cpt_value_1"
     ],
     "language": "python",
     "metadata": {},
     "outputs": [
      {
       "metadata": {},
       "output_type": "pyout",
       "prompt_number": 14,
       "text": [
        "3.366581582868092"
       ]
      }
     ],
     "prompt_number": 14
    },
    {
     "cell_type": "markdown",
     "metadata": {},
     "source": [
      "To get the CPT value for pulling the lever, we also need to do this for the other prospect (a 20% chance of getting nothing), and sum the results."
     ]
    },
    {
     "cell_type": "code",
     "collapsed": false,
     "input": [
      "red_lever_cpt_value = value(red_lever[1][1], lmbda, alpha, beta)*weighting(red_lever[1][0], gamma)+red_lever_cpt_value_1\n",
      "red_lever_cpt_value"
     ],
     "language": "python",
     "metadata": {},
     "outputs": [
      {
       "metadata": {},
       "output_type": "pyout",
       "prompt_number": 15,
       "text": [
        "3.366581582868092"
       ]
      }
     ],
     "prompt_number": 15
    },
    {
     "cell_type": "markdown",
     "metadata": {},
     "source": [
      "By contrast, a straight expected value calculation would give..."
     ]
    },
    {
     "cell_type": "code",
     "collapsed": false,
     "input": [
      "red_lever[1][1]*red_lever[1][0] + red_lever[0][1]*red_lever[0][0]"
     ],
     "language": "python",
     "metadata": {},
     "outputs": [
      {
       "metadata": {},
       "output_type": "pyout",
       "prompt_number": 16,
       "text": [
        "5.6000000000000005"
       ]
      }
     ],
     "prompt_number": 16
    },
    {
     "cell_type": "markdown",
     "metadata": {},
     "source": [
      "If we follow the same procedure to get the CPT value for the other two levers, we can then compare them, and make our choice."
     ]
    },
    {
     "cell_type": "code",
     "collapsed": false,
     "input": [
      "blue_lever_cpt_value = value(blue_lever[0][1], lmbda, alpha, beta)*weighting(blue_lever[0][0], gamma) + value(blue_lever[1][1], lmbda, alpha, beta)*weighting(blue_lever[1][0], delta)\n",
      "purple_lever_cpt_value = value(purple_lever[0][1], lmbda, alpha, beta)*weighting(purple_lever[0][0], gamma)\n",
      "\n",
      "print \"Blue lever CPT value is %f\\nRed lever CPT value is %f\\nPurple lever CPT value is %f\" % (blue_lever_cpt_value, red_lever_cpt_value, purple_lever_cpt_value)"
     ],
     "language": "python",
     "metadata": {},
     "outputs": [
      {
       "output_type": "stream",
       "stream": "stdout",
       "text": [
        "Blue lever CPT value is 4.162055\n",
        "Red lever CPT value is 3.366582\n",
        "Purple lever CPT value is 4.839195\n"
       ]
      }
     ],
     "prompt_number": 20
    },
    {
     "cell_type": "markdown",
     "metadata": {},
     "source": [
      "So, a certain outcome is preferred, and we pull the purple lever."
     ]
    },
    {
     "cell_type": "code",
     "collapsed": false,
     "input": [],
     "language": "python",
     "metadata": {},
     "outputs": []
    }
   ],
   "metadata": {}
  }
 ]
}